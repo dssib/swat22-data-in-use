{
 "cells": [
  {
   "cell_type": "markdown",
   "id": "bee097d7",
   "metadata": {},
   "source": [
    "## This notebook accompanies our submission for SWAT4HCLS 2023 \"data-in-use\", showcasing federated queries across UniProt, OMA and Bgee for identifying essential proteins\n"
   ]
  },
  {
   "cell_type": "markdown",
   "id": "bdfa82a2",
   "metadata": {},
   "source": [
    "### 1. Identify the taxon ID of \"S. cerevisiae\" in OMA RDF"
   ]
  },
  {
   "cell_type": "code",
   "execution_count": null,
   "id": "9ca68031",
   "metadata": {},
   "outputs": [],
   "source": [
    "..."
   ]
  },
  {
   "cell_type": "markdown",
   "id": "eea08b51",
   "metadata": {},
   "source": [
    " Since there are multiple such taxa, we need to federate with UniProt to identify the reference one, by computing the taxon that has the highest number of annotations"
   ]
  },
  {
   "cell_type": "markdown",
   "id": "ac297e63",
   "metadata": {},
   "source": [
    "### 2. Compute number of annotations per \"S. cerevisiae\" taxon (according to OMA) from UniProt"
   ]
  },
  {
   "cell_type": "code",
   "execution_count": null,
   "id": "76e183ff",
   "metadata": {},
   "outputs": [],
   "source": [
    "....."
   ]
  },
  {
   "cell_type": "markdown",
   "id": "37cc1b54",
   "metadata": {},
   "source": [
    "The previous query illustrates that the taxon we are looking for is certainly NCBI ID 559292. We will use this throughout the remainder of the tutorial directly"
   ]
  },
  {
   "cell_type": "markdown",
   "id": "d4356772",
   "metadata": {},
   "source": [
    "### 3. Compute orthologs of S. cerevisiae in reference species. Here, we will restrict refences species to be those available in Bgee, as those are the only ones for which we can further compute expression profiles"
   ]
  },
  {
   "cell_type": "code",
   "execution_count": null,
   "id": "3d1a9781",
   "metadata": {},
   "outputs": [],
   "source": [
    "....."
   ]
  },
  {
   "cell_type": "markdown",
   "id": "c51918d8",
   "metadata": {},
   "source": [
    "### 4. Having computed orthologs, now also compute where these are highly expressed (federated query OMA + BGEE)"
   ]
  },
  {
   "cell_type": "code",
   "execution_count": null,
   "id": "20d63c1c",
   "metadata": {},
   "outputs": [],
   "source": [
    "...."
   ]
  },
  {
   "cell_type": "markdown",
   "id": "1a7d64a6",
   "metadata": {},
   "source": [
    "### 5. Attempt aggregation via SPARQL: compute number of orthologs and average expression breadth per ortholog"
   ]
  },
  {
   "cell_type": "code",
   "execution_count": null,
   "id": "4576c422",
   "metadata": {},
   "outputs": [],
   "source": [
    "...."
   ]
  },
  {
   "cell_type": "markdown",
   "id": "c62f52f5",
   "metadata": {},
   "source": [
    "### 5b. Variant: compute aggregation directly in Python"
   ]
  },
  {
   "cell_type": "code",
   "execution_count": null,
   "id": "6e81a1d8",
   "metadata": {},
   "outputs": [],
   "source": [
    "...."
   ]
  },
  {
   "cell_type": "markdown",
   "id": "db2d9185",
   "metadata": {},
   "source": [
    "### 6. Putting everything together: the query that should unite all information in this tutorial (note: will not run due to timeouts)"
   ]
  },
  {
   "cell_type": "code",
   "execution_count": null,
   "id": "46088258",
   "metadata": {},
   "outputs": [],
   "source": [
    "....."
   ]
  },
  {
   "cell_type": "markdown",
   "id": "ade97f5d",
   "metadata": {},
   "source": [
    "### Caveat: expression as hierarchy - are the same things counted twice? How do we take only the leaves? (use UBERON)"
   ]
  },
  {
   "cell_type": "code",
   "execution_count": null,
   "id": "25810737",
   "metadata": {},
   "outputs": [],
   "source": []
  }
 ],
 "metadata": {
  "kernelspec": {
   "display_name": "Python 3 (ipykernel)",
   "language": "python",
   "name": "python3"
  },
  "language_info": {
   "codemirror_mode": {
    "name": "ipython",
    "version": 3
   },
   "file_extension": ".py",
   "mimetype": "text/x-python",
   "name": "python",
   "nbconvert_exporter": "python",
   "pygments_lexer": "ipython3",
   "version": "3.9.7"
  }
 },
 "nbformat": 4,
 "nbformat_minor": 5
}
