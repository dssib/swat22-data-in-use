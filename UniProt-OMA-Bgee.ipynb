{
 "cells": [
  {
   "cell_type": "markdown",
   "id": "bee097d7",
   "metadata": {},
   "source": [
    "## This notebook accompanies our submission for SWAT4HCLS 2023 \"data-in-use\", showcasing federated queries across UniProt, OMA and Bgee for identifying essential proteins\n",
    "\n",
    "#### Note: we build the query progressively to illustrate step by step how to achieve the end result. We also highlight lessons learned for each of the steps, where relevant."
   ]
  },
  {
   "cell_type": "code",
   "execution_count": 14,
   "id": "e6962861",
   "metadata": {},
   "outputs": [
    {
     "name": "stdout",
     "output_type": "stream",
     "text": [
      "Requirement already satisfied: SPARQLWrapper in /Users/asima/opt/anaconda3/lib/python3.9/site-packages (1.8.5)\r\n",
      "Requirement already satisfied: rdflib>=4.0 in /Users/asima/opt/anaconda3/lib/python3.9/site-packages (from SPARQLWrapper) (6.2.0)\r\n",
      "Requirement already satisfied: isodate in /Users/asima/opt/anaconda3/lib/python3.9/site-packages (from rdflib>=4.0->SPARQLWrapper) (0.6.1)\r\n",
      "Requirement already satisfied: setuptools in /Users/asima/opt/anaconda3/lib/python3.9/site-packages (from rdflib>=4.0->SPARQLWrapper) (58.0.4)\r\n",
      "Requirement already satisfied: pyparsing in /Users/asima/opt/anaconda3/lib/python3.9/site-packages (from rdflib>=4.0->SPARQLWrapper) (3.0.4)\r\n",
      "Requirement already satisfied: six in /Users/asima/opt/anaconda3/lib/python3.9/site-packages (from isodate->rdflib>=4.0->SPARQLWrapper) (1.16.0)\r\n"
     ]
    },
    {
     "name": "stderr",
     "output_type": "stream",
     "text": [
      "/var/folders/5d/3j6fyxq90gs2qdxgzpzsl1gh0000gp/T/ipykernel_54782/2522515982.py:9: FutureWarning: Passing a negative integer is deprecated in version 1.0 and will not be supported in future version. Instead, use None to not limit the column width.\n",
      "  pd.set_option('display.max_colwidth', -1)\n"
     ]
    }
   ],
   "source": [
    "# helper functions\n",
    "import sys\n",
    "!{sys.executable} -m pip install SPARQLWrapper\n",
    "from SPARQLWrapper import SPARQLWrapper, JSON\n",
    "import sys, os, time\n",
    "import pandas as pd\n",
    "\n",
    "# always display full column results (don't truncate output)\n",
    "pd.set_option('display.max_colwidth', -1)\n",
    "\n",
    "OMA_SPARQL_endpoint = \"https://sparql.omabrowser.org/sparql\"\n",
    "Bgee_SPARQL_endpoint = \"https://bgee.org/sparql/\"\n",
    "UniProt_SPARQL_endpoint = \"https://sparql.uniprot.org/sparql/\"\n",
    "\n",
    "# the endpoints must be defined as wrappers for executing SPARQL queries\n",
    "sparql_endpoint_OMA = SPARQLWrapper(OMA_SPARQL_endpoint)\n",
    "sparql_endpoint_UniProt = SPARQLWrapper(UniProt_SPARQL_endpoint)\n",
    "\n",
    "# function to print in a table results of a SPARQL query\n",
    "def pretty_print(results):\n",
    "    \n",
    "    # how to transform SPARQL results into Pandas dataframes\n",
    "    \n",
    "    # get header (column names) from results\n",
    "    header = results[\"results\"][\"bindings\"][0].keys()\n",
    "\n",
    "    # display table of results:\n",
    "    table = []\n",
    "    \n",
    "    # the SPARQL JSON results to the query are available in the \"results\", \"bindings\" entry:\n",
    "    for entry in results[\"results\"][\"bindings\"]:\n",
    "        # append entries from the results to a regular Python list of rows, which we can then transform to a Pandas DF\n",
    "        row = [entry[column][\"value\"] if entry.get(column, None) != None else None for column in header]\n",
    "        table.append(row)\n",
    "    df = pd.DataFrame(table, columns=list(header))\n",
    "    return df\n",
    "\n"
   ]
  },
  {
   "cell_type": "markdown",
   "id": "bdfa82a2",
   "metadata": {},
   "source": [
    "### 1. Identify the taxon ID of \"S. cerevisiae\" in OMA RDF"
   ]
  },
  {
   "cell_type": "markdown",
   "id": "b7b64bb6",
   "metadata": {},
   "source": [
    "#### First attempt: fetch directly from OMA"
   ]
  },
  {
   "cell_type": "code",
   "execution_count": 12,
   "id": "9ca68031",
   "metadata": {},
   "outputs": [],
   "source": [
    "query_OMA_s_cerevisiae = \"\"\"\n",
    "PREFIX oma: <http://omabrowser.org/ontology/oma#>\n",
    "PREFIX orth: <http://purl.org/net/orth#>\n",
    "PREFIX sio: <http://semanticscience.org/resource/>\n",
    "PREFIX lscr: <http://purl.org/lscr#>\n",
    "PREFIX up: <http://purl.uniprot.org/core/>\n",
    "PREFIX obo: <http://purl.obolibrary.org/obo/>\n",
    "\n",
    "select ?taxon ?name where {\n",
    "    ?taxon  a up:Taxon.\n",
    "    ?taxon up:scientificName ?name.\n",
    "    filter (strstarts (lcase(?name), \"saccharomyces cerevisiae\" ))\n",
    "}\n",
    "\"\"\""
   ]
  },
  {
   "cell_type": "code",
   "execution_count": 13,
   "id": "d3845eb9",
   "metadata": {},
   "outputs": [
    {
     "data": {
      "text/html": [
       "<div>\n",
       "<style scoped>\n",
       "    .dataframe tbody tr th:only-of-type {\n",
       "        vertical-align: middle;\n",
       "    }\n",
       "\n",
       "    .dataframe tbody tr th {\n",
       "        vertical-align: top;\n",
       "    }\n",
       "\n",
       "    .dataframe thead th {\n",
       "        text-align: right;\n",
       "    }\n",
       "</style>\n",
       "<table border=\"1\" class=\"dataframe\">\n",
       "  <thead>\n",
       "    <tr style=\"text-align: right;\">\n",
       "      <th></th>\n",
       "      <th>taxon</th>\n",
       "      <th>name</th>\n",
       "    </tr>\n",
       "  </thead>\n",
       "  <tbody>\n",
       "    <tr>\n",
       "      <th>0</th>\n",
       "      <td>http://purl.uniprot.org/taxonomy/559292</td>\n",
       "      <td>Saccharomyces cerevisiae (strain ATCC 204508 / S288c)</td>\n",
       "    </tr>\n",
       "    <tr>\n",
       "      <th>1</th>\n",
       "      <td>http://purl.uniprot.org/taxonomy/764097</td>\n",
       "      <td>Saccharomyces cerevisiae (strain AWRI796)</td>\n",
       "    </tr>\n",
       "    <tr>\n",
       "      <th>2</th>\n",
       "      <td>http://purl.uniprot.org/taxonomy/764099</td>\n",
       "      <td>Saccharomyces cerevisiae (strain VIN 13)</td>\n",
       "    </tr>\n",
       "    <tr>\n",
       "      <th>3</th>\n",
       "      <td>http://purl.uniprot.org/taxonomy/764101</td>\n",
       "      <td>Saccharomyces cerevisiae (strain FostersO)</td>\n",
       "    </tr>\n",
       "  </tbody>\n",
       "</table>\n",
       "</div>"
      ],
      "text/plain": [
       "                                     taxon  \\\n",
       "0  http://purl.uniprot.org/taxonomy/559292   \n",
       "1  http://purl.uniprot.org/taxonomy/764097   \n",
       "2  http://purl.uniprot.org/taxonomy/764099   \n",
       "3  http://purl.uniprot.org/taxonomy/764101   \n",
       "\n",
       "                                                    name  \n",
       "0  Saccharomyces cerevisiae (strain ATCC 204508 / S288c)  \n",
       "1  Saccharomyces cerevisiae (strain AWRI796)              \n",
       "2  Saccharomyces cerevisiae (strain VIN 13)               \n",
       "3  Saccharomyces cerevisiae (strain FostersO)             "
      ]
     },
     "execution_count": 13,
     "metadata": {},
     "output_type": "execute_result"
    }
   ],
   "source": [
    "# set the query to be executed against the OMA endpoint and set the return format to JSON\n",
    "sparql_endpoint_OMA.setQuery(query_OMA_s_cerevisiae)\n",
    "sparql_endpoint_OMA.setReturnFormat(JSON)\n",
    "\n",
    "results = sparql_endpoint_OMA.query().convert()\n",
    "\n",
    "pretty_print(results)\n"
   ]
  },
  {
   "cell_type": "markdown",
   "id": "eea08b51",
   "metadata": {},
   "source": [
    " Since there are multiple such taxa, we need to decide which one is the reference we should use in going forward. For this, since the OMA RDF does not store GO annotations, we will federate with UniProt to compute the number of annotations per taxon. We will consider the reference one to be the highest annotated one."
   ]
  },
  {
   "cell_type": "markdown",
   "id": "16af2b58",
   "metadata": {},
   "source": [
    "### 2. Combine with UniProt to identify taxon with most GO term annotations (this will be the reference one)\n",
    "Note: despite how few taxa are transmitted from OMA to UniProt, this query takes very long to execute. This is  because all annotations need to be fetched from uniprot and sent back over before computing the aggregation."
   ]
  },
  {
   "cell_type": "code",
   "execution_count": 18,
   "id": "57c14e17",
   "metadata": {},
   "outputs": [
    {
     "name": "stdout",
     "output_type": "stream",
     "text": [
      "CPU times: user 56.6 ms, sys: 14.9 ms, total: 71.5 ms\n",
      "Wall time: 5min 37s\n"
     ]
    },
    {
     "data": {
      "text/html": [
       "<div>\n",
       "<style scoped>\n",
       "    .dataframe tbody tr th:only-of-type {\n",
       "        vertical-align: middle;\n",
       "    }\n",
       "\n",
       "    .dataframe tbody tr th {\n",
       "        vertical-align: top;\n",
       "    }\n",
       "\n",
       "    .dataframe thead th {\n",
       "        text-align: right;\n",
       "    }\n",
       "</style>\n",
       "<table border=\"1\" class=\"dataframe\">\n",
       "  <thead>\n",
       "    <tr style=\"text-align: right;\">\n",
       "      <th></th>\n",
       "      <th>taxon</th>\n",
       "      <th>num_annot</th>\n",
       "    </tr>\n",
       "  </thead>\n",
       "  <tbody>\n",
       "    <tr>\n",
       "      <th>0</th>\n",
       "      <td>http://purl.uniprot.org/taxonomy/559292</td>\n",
       "      <td>6417</td>\n",
       "    </tr>\n",
       "    <tr>\n",
       "      <th>1</th>\n",
       "      <td>http://purl.uniprot.org/taxonomy/764097</td>\n",
       "      <td>81</td>\n",
       "    </tr>\n",
       "    <tr>\n",
       "      <th>2</th>\n",
       "      <td>http://purl.uniprot.org/taxonomy/764099</td>\n",
       "      <td>70</td>\n",
       "    </tr>\n",
       "    <tr>\n",
       "      <th>3</th>\n",
       "      <td>http://purl.uniprot.org/taxonomy/764101</td>\n",
       "      <td>60</td>\n",
       "    </tr>\n",
       "  </tbody>\n",
       "</table>\n",
       "</div>"
      ],
      "text/plain": [
       "                                     taxon num_annot\n",
       "0  http://purl.uniprot.org/taxonomy/559292  6417    \n",
       "1  http://purl.uniprot.org/taxonomy/764097  81      \n",
       "2  http://purl.uniprot.org/taxonomy/764099  70      \n",
       "3  http://purl.uniprot.org/taxonomy/764101  60      "
      ]
     },
     "execution_count": 18,
     "metadata": {},
     "output_type": "execute_result"
    }
   ],
   "source": [
    "%%time\n",
    "query_OMA_UniProt_s_cerevisiae = \"\"\"\n",
    "PREFIX oma: <http://omabrowser.org/ontology/oma#>\n",
    "PREFIX orth: <http://purl.org/net/orth#>\n",
    "PREFIX sio: <http://semanticscience.org/resource/>\n",
    "PREFIX lscr: <http://purl.org/lscr#>\n",
    "PREFIX up: <http://purl.uniprot.org/core/>\n",
    "PREFIX obo: <http://purl.obolibrary.org/obo/>\n",
    "\n",
    "select ?taxon (count (distinct ?goTerm) as ?num_annot) where {\n",
    "    ?taxon  a up:Taxon.\n",
    "    ?taxon up:scientificName ?name.\n",
    "    filter (strstarts (lcase(?name), \"saccharomyces cerevisiae\" ))\n",
    "    SERVICE <http://sparql.uniprot.org/sparql> {\n",
    "        Select ?taxon ?goTerm where {\n",
    "            ?protein a up:Protein .\n",
    "            ?protein up:classifiedWith ?goTerm .\n",
    "            ?protein  up:organism ?taxon .\n",
    "        } \n",
    "    }\n",
    "} group by ?taxon order by desc(?num_annot) # limit 1 -- if we only want to directly fetch the top one\n",
    "\n",
    "\"\"\"\n",
    "\n",
    "sparql_endpoint_OMA.setQuery(query_OMA_UniProt_s_cerevisiae)\n",
    "sparql_endpoint_OMA.setReturnFormat(JSON)\n",
    "\n",
    "results = sparql_endpoint_OMA.query().convert()\n",
    "\n",
    "pretty_print(results)"
   ]
  },
  {
   "cell_type": "markdown",
   "id": "ac297e63",
   "metadata": {},
   "source": [
    "### 2b. Execute same query at UniProt site (invoking OMA remotely)"
   ]
  },
  {
   "cell_type": "code",
   "execution_count": 17,
   "id": "76e183ff",
   "metadata": {},
   "outputs": [
    {
     "name": "stdout",
     "output_type": "stream",
     "text": [
      "CPU times: user 17.4 ms, sys: 5.18 ms, total: 22.6 ms\n",
      "Wall time: 1.28 s\n"
     ]
    },
    {
     "data": {
      "text/html": [
       "<div>\n",
       "<style scoped>\n",
       "    .dataframe tbody tr th:only-of-type {\n",
       "        vertical-align: middle;\n",
       "    }\n",
       "\n",
       "    .dataframe tbody tr th {\n",
       "        vertical-align: top;\n",
       "    }\n",
       "\n",
       "    .dataframe thead th {\n",
       "        text-align: right;\n",
       "    }\n",
       "</style>\n",
       "<table border=\"1\" class=\"dataframe\">\n",
       "  <thead>\n",
       "    <tr style=\"text-align: right;\">\n",
       "      <th></th>\n",
       "      <th>num_annot</th>\n",
       "      <th>taxon</th>\n",
       "    </tr>\n",
       "  </thead>\n",
       "  <tbody>\n",
       "    <tr>\n",
       "      <th>0</th>\n",
       "      <td>6417</td>\n",
       "      <td>http://purl.uniprot.org/taxonomy/559292</td>\n",
       "    </tr>\n",
       "    <tr>\n",
       "      <th>1</th>\n",
       "      <td>81</td>\n",
       "      <td>http://purl.uniprot.org/taxonomy/764097</td>\n",
       "    </tr>\n",
       "    <tr>\n",
       "      <th>2</th>\n",
       "      <td>70</td>\n",
       "      <td>http://purl.uniprot.org/taxonomy/764099</td>\n",
       "    </tr>\n",
       "    <tr>\n",
       "      <th>3</th>\n",
       "      <td>60</td>\n",
       "      <td>http://purl.uniprot.org/taxonomy/764101</td>\n",
       "    </tr>\n",
       "  </tbody>\n",
       "</table>\n",
       "</div>"
      ],
      "text/plain": [
       "  num_annot                                    taxon\n",
       "0  6417      http://purl.uniprot.org/taxonomy/559292\n",
       "1  81        http://purl.uniprot.org/taxonomy/764097\n",
       "2  70        http://purl.uniprot.org/taxonomy/764099\n",
       "3  60        http://purl.uniprot.org/taxonomy/764101"
      ]
     },
     "execution_count": 17,
     "metadata": {},
     "output_type": "execute_result"
    }
   ],
   "source": [
    "%%time\n",
    "query_UniProt_OMA = \"\"\"\n",
    "PREFIX oma: <http://omabrowser.org/ontology/oma#>\n",
    "PREFIX orth: <http://purl.org/net/orth#>\n",
    "PREFIX sio: <http://semanticscience.org/resource/>\n",
    "PREFIX lscr: <http://purl.org/lscr#>\n",
    "PREFIX up: <http://purl.uniprot.org/core/>\n",
    "PREFIX obo: <http://purl.obolibrary.org/obo/>\n",
    "\n",
    "SELECT ?taxon (count (distinct ?goTerm) as ?num_annot) where {\n",
    "  SERVICE<https://sparql.omabrowser.org/sparql>{\n",
    "select ?taxon where {\n",
    "?taxon  a up:Taxon.\n",
    "?taxon up:scientificName ?name.\n",
    "filter (strstarts (lcase(?name), \"saccharomyces cerevisiae\" ))\n",
    "    } }\n",
    "?protein a up:Protein .\n",
    "    \t?protein up:classifiedWith ?goTerm .\n",
    "    \t?protein  up:organism ?taxon . \n",
    "  \n",
    "} group by ?taxon order by desc(?num_annot) # limit 1 -- if we only want to directly fetch the top one\n",
    "\n",
    "\n",
    "\"\"\"\n",
    "\n",
    "sparql_endpoint_UniProt.setQuery(query_UniProt_OMA)\n",
    "sparql_endpoint_UniProt.setReturnFormat(JSON)\n",
    "\n",
    "results = sparql_endpoint_UniProt.query().convert()\n",
    "\n",
    "pretty_print(results)"
   ]
  },
  {
   "cell_type": "markdown",
   "id": "37cc1b54",
   "metadata": {},
   "source": [
    "The previous query illustrates that the taxon we are looking for is certainly NCBI ID 559292. We will use this throughout the remainder of the tutorial directly.\n",
    "\n",
    "###### **LESSON LEARNED no. 1: generating and transfering large intermediate results can make order of magnitude difference in performance. However, it is not always easy to predict which query fragments will lead to this problem.**\n"
   ]
  },
  {
   "cell_type": "markdown",
   "id": "d4356772",
   "metadata": {},
   "source": [
    "### 3. Compute orthologs of S. cerevisiae in reference species. Here, we will restrict refences species to be those available in Bgee, as those are the only ones for which we can further compute expression profiles"
   ]
  },
  {
   "cell_type": "code",
   "execution_count": null,
   "id": "3d1a9781",
   "metadata": {},
   "outputs": [],
   "source": [
    "....."
   ]
  },
  {
   "cell_type": "markdown",
   "id": "c51918d8",
   "metadata": {},
   "source": [
    "### 4. Having computed orthologs, now also compute where these are highly expressed (federated query OMA + BGEE)"
   ]
  },
  {
   "cell_type": "code",
   "execution_count": null,
   "id": "20d63c1c",
   "metadata": {},
   "outputs": [],
   "source": [
    "...."
   ]
  },
  {
   "cell_type": "markdown",
   "id": "1a7d64a6",
   "metadata": {},
   "source": [
    "### 5. Attempt aggregation via SPARQL: compute number of orthologs and average expression breadth per ortholog"
   ]
  },
  {
   "cell_type": "code",
   "execution_count": null,
   "id": "4576c422",
   "metadata": {},
   "outputs": [],
   "source": [
    "...."
   ]
  },
  {
   "cell_type": "markdown",
   "id": "c62f52f5",
   "metadata": {},
   "source": [
    "### 5b. Variant: compute aggregation directly in Python"
   ]
  },
  {
   "cell_type": "code",
   "execution_count": null,
   "id": "6e81a1d8",
   "metadata": {},
   "outputs": [],
   "source": [
    "...."
   ]
  },
  {
   "cell_type": "markdown",
   "id": "db2d9185",
   "metadata": {},
   "source": [
    "### 6. Putting everything together: the query that should unite all information in this tutorial (note: will not run due to timeouts)"
   ]
  },
  {
   "cell_type": "code",
   "execution_count": null,
   "id": "46088258",
   "metadata": {},
   "outputs": [],
   "source": [
    "....."
   ]
  },
  {
   "cell_type": "markdown",
   "id": "ade97f5d",
   "metadata": {},
   "source": [
    "### Caveat: expression as hierarchy - are the same things counted twice? How do we take only the leaves? (use UBERON)"
   ]
  },
  {
   "cell_type": "code",
   "execution_count": null,
   "id": "25810737",
   "metadata": {},
   "outputs": [],
   "source": []
  }
 ],
 "metadata": {
  "kernelspec": {
   "display_name": "Python 3 (ipykernel)",
   "language": "python",
   "name": "python3"
  },
  "language_info": {
   "codemirror_mode": {
    "name": "ipython",
    "version": 3
   },
   "file_extension": ".py",
   "mimetype": "text/x-python",
   "name": "python",
   "nbconvert_exporter": "python",
   "pygments_lexer": "ipython3",
   "version": "3.9.7"
  }
 },
 "nbformat": 4,
 "nbformat_minor": 5
}
